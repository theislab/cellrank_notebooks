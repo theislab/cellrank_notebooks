{
 "cells": [
  {
   "cell_type": "markdown",
   "metadata": {},
   "source": [
    "## CellRank beyond RNA Velocity"
   ]
  },
  {
   "cell_type": "markdown",
   "metadata": {},
   "source": [
    "Before moving on to the `estimators`, let's demonstrate how to set up a `PseudotimeKernel`. For this, we need a pseudotemporal ordering of the cells. Any pseudotime method can be used here. Note that this won't exactly reproduce the original Palantir implementation because it uses a specific representation of the data and a specific pseudotime. We will simply use DPT here:"
   ]
  },
  {
   "cell_type": "code",
   "execution_count": 14,
   "metadata": {},
   "outputs": [
    {
     "name": "stderr",
     "output_type": "stream",
     "text": [
      "WARNING: Trying to run `tl.dpt` without prior call of `tl.diffmap`. Falling back to `tl.diffmap` with default parameters.\n"
     ]
    }
   ],
   "source": [
    "root_idx = np.where(adata.obs['clusters'] == 'Ngn3 low EP')[0][0]\n",
    "adata.uns['iroot'] = root_idx\n",
    "sc.tl.dpt(adata)"
   ]
  },
  {
   "cell_type": "markdown",
   "metadata": {},
   "source": [
    "Note that we did not use the above `VelocityKernel` to infer the initial state here as we assume that in a situation where you want to apply Palantir, you probably don't have acess to velocities!\n",
    "\n",
    "The last step is to initialize the `PseudotimeKernel` based on the `adata` object and the pre-computed diffusion pseudotime. If you want to use another pseudotime, use the `time_key` keyword. "
   ]
  },
  {
   "cell_type": "code",
   "execution_count": 15,
   "metadata": {},
   "outputs": [
    {
     "name": "stdout",
     "output_type": "stream",
     "text": [
      "<PseudotimeKernel[dnorm=True, scheme=hard, k=3, n_neighs=30]>\n"
     ]
    },
    {
     "name": "stderr",
     "output_type": "stream",
     "text": [
      "Computing transition matrix based on `dpt_pseudotime`\n",
      "    Finish (0:00:00)\n"
     ]
    }
   ],
   "source": [
    "from cellrank.tl.kernels import PseudotimeKernel\n",
    "pk = PseudotimeKernel(adata, time_key='dpt_pseudotime').compute_transition_matrix(threshold_scheme='hard')\n",
    "print(pk)"
   ]
  }
 ],
 "metadata": {
  "kernelspec": {
   "display_name": "Python (py38_devel)",
   "language": "python",
   "name": "py38_devel"
  },
  "language_info": {
   "codemirror_mode": {
    "name": "ipython",
    "version": 3
   },
   "file_extension": ".py",
   "mimetype": "text/x-python",
   "name": "python",
   "nbconvert_exporter": "python",
   "pygments_lexer": "ipython3",
   "version": "3.8.6"
  },
  "toc": {
   "base_numbering": 1,
   "nav_menu": {},
   "number_sections": true,
   "sideBar": true,
   "skip_h1_title": false,
   "title_cell": "Table of Contents",
   "title_sidebar": "Contents",
   "toc_cell": false,
   "toc_position": {},
   "toc_section_display": true,
   "toc_window_display": false
  }
 },
 "nbformat": 4,
 "nbformat_minor": 4
}
