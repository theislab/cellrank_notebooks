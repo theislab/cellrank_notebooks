{
 "cells": [
  {
   "cell_type": "markdown",
   "id": "7c3c9543",
   "metadata": {},
   "source": [
    "# Creating a new kernel"
   ]
  },
  {
   "cell_type": "markdown",
   "id": "394f1ad4",
   "metadata": {},
   "source": [
    "This tutorial shows how to create your own kernel class which computes a cell-cell transition matrix. For some example kernel classes, check out CellRank's [VelocityKernel](https://cellrank.readthedocs.io/en/stable/api/cellrank.tl.kernels.VelocityKernel.html) or [ConnectivityKernel](https://cellrank.readthedocs.io/en/stable/api/cellrank.tl.kernels.ConnectivityKernel.html). Contributing a new kernel class is the preferred way of interfacing to an external method that computes cell-cell transition probabilities. "
   ]
  },
  {
   "cell_type": "markdown",
   "id": "5ec76b25",
   "metadata": {},
   "source": [
    "## Import packages & data"
   ]
  },
  {
   "cell_type": "code",
   "execution_count": 1,
   "id": "24157b7c",
   "metadata": {},
   "outputs": [],
   "source": [
    "import sys\n",
    "\n",
    "if \"google.colab\" in sys.modules:\n",
    "    !pip install --quiet cellrank"
   ]
  },
  {
   "cell_type": "code",
   "execution_count": 1,
   "id": "06629ea5",
   "metadata": {
    "ExecuteTime": {
     "end_time": "2021-03-19T18:00:52.718691Z",
     "start_time": "2021-03-19T18:00:50.005592Z"
    }
   },
   "outputs": [],
   "source": [
    "from typing import Any\n",
    "from copy import copy\n",
    "from anndata import AnnData\n",
    "\n",
    "import cellrank as cr\n",
    "import numpy as np\n",
    "import scipy.sparse as sp"
   ]
  },
  {
   "cell_type": "markdown",
   "id": "57efa905",
   "metadata": {},
   "source": [
    "Import an example dataset. "
   ]
  },
  {
   "cell_type": "code",
   "execution_count": 2,
   "id": "acc9a393",
   "metadata": {
    "ExecuteTime": {
     "end_time": "2021-03-19T18:00:53.293466Z",
     "start_time": "2021-03-19T18:00:52.720625Z"
    }
   },
   "outputs": [
    {
     "data": {
      "text/plain": [
       "AnnData object with n_obs × n_vars = 2531 × 27998\n",
       "    obs: 'day', 'proliferation', 'G2M_score', 'S_score', 'phase', 'clusters_coarse', 'clusters', 'clusters_fine', 'louvain_Alpha', 'louvain_Beta', 'palantir_pseudotime'\n",
       "    var: 'highly_variable_genes'\n",
       "    uns: 'clusters_colors', 'clusters_fine_colors', 'day_colors', 'louvain_Alpha_colors', 'louvain_Beta_colors', 'neighbors', 'pca'\n",
       "    obsm: 'X_pca', 'X_umap'\n",
       "    layers: 'spliced', 'unspliced'\n",
       "    obsp: 'connectivities', 'distances'"
      ]
     },
     "execution_count": 2,
     "metadata": {},
     "output_type": "execute_result"
    }
   ],
   "source": [
    "adata = cr.datasets.pancreas()\n",
    "adata"
   ]
  },
  {
   "cell_type": "markdown",
   "id": "3e9d489d",
   "metadata": {},
   "source": [
    "## Minimal kernel"
   ]
  },
  {
   "cell_type": "markdown",
   "id": "1bf7dc6d",
   "metadata": {},
   "source": [
    "In order to create your own kernel class, you just need to do the following three things:\n",
    "\n",
    "- subclass from `cellrank.tl.kernels.Kernel`.\n",
    "- implement a `.compute_transition_matrix` method. This should be the core of your method - the algorithm which takes data and computes a cell-cell transition matrix from it. To save the matrix in the object, use the `._compute_transition_matrix` helper method (see below). Your `.compute_transition_matrix` method should return the kernel class itself. \n",
    "- implement a `.copy` method, which returns a copy of the kernel.\n",
    "\n",
    "The `._compute_transition_matrix` helper method row-normalizes any matrix passed to it (all elements must be non-negative) and optionally computes the condition number (can be costly and only works on dense matrices).\n",
    "\n",
    "Below you can see a minimal implementation of a kernel where the transition matrix is just a diagonal."
   ]
  },
  {
   "cell_type": "code",
   "execution_count": 3,
   "id": "8bc23695",
   "metadata": {
    "ExecuteTime": {
     "end_time": "2021-03-19T18:00:53.300948Z",
     "start_time": "2021-03-19T18:00:53.298055Z"
    }
   },
   "outputs": [],
   "source": [
    "class MyKernel(cr.tl.kernels.Kernel):\n",
    "    def compute_transition_matrix(self, some_parameter: float = 0.5) -> \"MyKernel\":\n",
    "        transition_matrix = sp.diags(\n",
    "            (some_parameter,) * len(self.adata), dtype=np.float64\n",
    "        )\n",
    "        self._compute_transition_matrix(transition_matrix, density_normalize=True)\n",
    "        return self\n",
    "\n",
    "    def copy(self) -> \"MyKernel\":\n",
    "        return copy(self)"
   ]
  },
  {
   "cell_type": "code",
   "execution_count": 4,
   "id": "10908526",
   "metadata": {
    "ExecuteTime": {
     "end_time": "2021-03-19T18:00:53.315153Z",
     "start_time": "2021-03-19T18:00:53.302125Z"
    }
   },
   "outputs": [
    {
     "data": {
      "text/plain": [
       "array([[1., 0., 0., ..., 0., 0., 0.],\n",
       "       [0., 1., 0., ..., 0., 0., 0.],\n",
       "       [0., 0., 1., ..., 0., 0., 0.],\n",
       "       ...,\n",
       "       [0., 0., 0., ..., 1., 0., 0.],\n",
       "       [0., 0., 0., ..., 0., 1., 0.],\n",
       "       [0., 0., 0., ..., 0., 0., 1.]])"
      ]
     },
     "execution_count": 4,
     "metadata": {},
     "output_type": "execute_result"
    }
   ],
   "source": [
    "k = MyKernel(adata).compute_transition_matrix()\n",
    "k.transition_matrix.A"
   ]
  },
  {
   "cell_type": "markdown",
   "id": "7e91f319",
   "metadata": {},
   "source": [
    "## Reading from AnnData"
   ]
  },
  {
   "cell_type": "markdown",
   "id": "09bad974",
   "metadata": {},
   "source": [
    "CellRank is part of the [scanpy](https://scanpy.readthedocs.io/en/latest/) ecosystem and relies on [AnnData](https://anndata.readthedocs.io/en/latest/index.html) objects to store and manipulate single cell data. The example below shows how to read data from an AnnData object though a kernel class using the `._read_from_adata` method, which is invoked when initializing the class."
   ]
  },
  {
   "cell_type": "code",
   "execution_count": 5,
   "id": "022c8895",
   "metadata": {
    "ExecuteTime": {
     "end_time": "2021-03-19T18:00:53.320333Z",
     "start_time": "2021-03-19T18:00:53.316400Z"
    }
   },
   "outputs": [],
   "source": [
    "class MyKernel(cr.tl.kernels.Kernel):\n",
    "    def __init__(\n",
    "        self, adata: AnnData, obs_key: str = \"palantir_pseudotime\", **kwargs: Any\n",
    "    ):\n",
    "        super().__init__(adata=adata, obs_key=obs_key, **kwargs)\n",
    "\n",
    "    def _read_from_adata(self, obs_key: str, **kwargs: Any):\n",
    "        super()._read_from_adata(**kwargs)\n",
    "\n",
    "        print(f\"Reading `adata.obs[{obs_key!r}]`\")\n",
    "        self.pseudotime = self.adata.obs[obs_key].values\n",
    "\n",
    "    def compute_transition_matrix(self, some_parameter: float = 0.5) -> \"MyKernel\":\n",
    "        print(\"Accessing `.pseudotime`: \", self.pseudotime)\n",
    "        transition_matrix = sp.diags(\n",
    "            (some_parameter,) * len(self.adata), dtype=np.float64\n",
    "        )\n",
    "\n",
    "        self._compute_transition_matrix(transition_matrix)\n",
    "\n",
    "        return self\n",
    "\n",
    "    def copy(self) -> \"MyKernel\":\n",
    "        return copy(self)"
   ]
  },
  {
   "cell_type": "markdown",
   "id": "0deed534",
   "metadata": {},
   "source": [
    "In the above example, we read a pseudotime from the `.obs` attribute of an AnnData object and store it in the kernel. "
   ]
  },
  {
   "cell_type": "code",
   "execution_count": 6,
   "id": "2428605e",
   "metadata": {
    "ExecuteTime": {
     "end_time": "2021-03-19T18:00:53.330087Z",
     "start_time": "2021-03-19T18:00:53.321487Z"
    }
   },
   "outputs": [
    {
     "name": "stdout",
     "output_type": "stream",
     "text": [
      "Reading `adata.obs['palantir_pseudotime']`\n",
      "Accessing `.pseudotime`:  [0.81281052 0.81832897 0.48974318 ... 0.73317134 0.92208156 0.8219729 ]\n"
     ]
    },
    {
     "data": {
      "text/plain": [
       "<MyKernel>"
      ]
     },
     "execution_count": 6,
     "metadata": {},
     "output_type": "execute_result"
    }
   ],
   "source": [
    "k = MyKernel(adata).compute_transition_matrix()\n",
    "k"
   ]
  },
  {
   "cell_type": "markdown",
   "id": "c5e6aecf",
   "metadata": {},
   "source": [
    "## Caching values"
   ]
  },
  {
   "cell_type": "markdown",
   "id": "bd773665",
   "metadata": {},
   "source": [
    "Kernels can be combined using the elementwise operators `+` and `*`. However, this could lead to multiple evaluations of the same expression, if it's being used in multiple places in the combined expression. To resolve this problem, we use a cache the last computed transition matrix and the parameters that were used to compute it.\n",
    "\n",
    "As a part of this caching scheme, we provide a method `._reuse_cache(parameters: Dict[str, Any]) -> bool` that returns `True` if a cached version for the parameters is available or `False` otherwise. It also updates the parameters, which are accessible through the `.params` attribute. We demonstrate this in the example below. "
   ]
  },
  {
   "cell_type": "code",
   "execution_count": 7,
   "id": "d173966b",
   "metadata": {
    "ExecuteTime": {
     "end_time": "2021-03-19T18:00:53.336747Z",
     "start_time": "2021-03-19T18:00:53.332776Z"
    }
   },
   "outputs": [],
   "source": [
    "class MyKernel(cr.tl.kernels.Kernel):\n",
    "    def __init__(\n",
    "        self, adata: AnnData, obs_key: str = \"palantir_pseudotime\", **kwargs: Any\n",
    "    ):\n",
    "        super().__init__(adata=adata, obs_key=obs_key, **kwargs)\n",
    "\n",
    "    def _read_from_adata(self, obs_key: str, **kwargs: Any):\n",
    "        super()._read_from_adata(**kwargs)\n",
    "\n",
    "        print(f\"Reading `adata.obs[{obs_key!r}]`\")\n",
    "        self.pseudotime = self.adata.obs[obs_key].values\n",
    "\n",
    "    def compute_transition_matrix(self, some_parameter: float = 0.5) -> \"MyKernel\":\n",
    "        if self._reuse_cache({\"some_parameter\": some_parameter}):\n",
    "            print(\"Using cached values for parameters:\", self.params)\n",
    "            return self\n",
    "\n",
    "        transition_matrix = sp.diags(\n",
    "            (some_parameter,) * len(self.adata), dtype=np.float64\n",
    "        )\n",
    "\n",
    "        self._compute_transition_matrix(transition_matrix, density_normalize=True)\n",
    "\n",
    "        return self\n",
    "\n",
    "    def copy(self) -> \"MyKernel\":\n",
    "        return copy(self)"
   ]
  },
  {
   "cell_type": "code",
   "execution_count": 8,
   "id": "26566a29",
   "metadata": {
    "ExecuteTime": {
     "end_time": "2021-03-19T18:00:53.345380Z",
     "start_time": "2021-03-19T18:00:53.338355Z"
    }
   },
   "outputs": [
    {
     "name": "stdout",
     "output_type": "stream",
     "text": [
      "Reading `adata.obs['palantir_pseudotime']`\n",
      "Using cached values for parameters: {'some_parameter': 0.1}\n",
      "<MyKernel[some_parameter=0.1]>\n"
     ]
    }
   ],
   "source": [
    "k = MyKernel(adata).compute_transition_matrix(some_parameter=0.1)\n",
    "k.compute_transition_matrix(some_parameter=0.1)\n",
    "print(k)"
   ]
  },
  {
   "cell_type": "markdown",
   "id": "524330c0",
   "metadata": {},
   "source": [
    "## Inverting a kernel"
   ]
  },
  {
   "cell_type": "markdown",
   "id": "16ab9c94",
   "metadata": {},
   "source": [
    "Kernels have a direction associated with them - intuitively, a kernel can be used to compute a transition matrix for the forward or the backward process. This is most intuitive for the velocity kernel, where the backwards direction corresponds to 'flipping' the arrows. In certain situations, this can help to find the initial states of a biological process. In CellRank, the direction of a kernel can be inverted using the `~` operator. Although this is a very niche functionality, we recommend overriding the `__invert__` method. That's an in-place operation which does the following:\n",
    "\n",
    "- it changes the direction (i.e. the attribute `.backward` will become `True` if it was `False` and vice-versa).\n",
    "- it invalidates the current transition matrix and the parameters that were used to compute it.\n",
    "\n",
    "The implementation really depends on the kernel class - which data it loads from AnnData and how it uses this data to compute cell-cell transition probabilities. In our case, we just need to change the `.pseudotime` attribute."
   ]
  },
  {
   "cell_type": "code",
   "execution_count": 9,
   "id": "9922e302",
   "metadata": {
    "ExecuteTime": {
     "end_time": "2021-03-19T18:00:53.351405Z",
     "start_time": "2021-03-19T18:00:53.346597Z"
    }
   },
   "outputs": [],
   "source": [
    "class MyKernel(cr.tl.kernels.Kernel):\n",
    "    def __init__(\n",
    "        self, adata: AnnData, obs_key: str = \"palantir_pseudotime\", **kwargs: Any\n",
    "    ):\n",
    "        super().__init__(adata=adata, obs_key=obs_key, **kwargs)\n",
    "\n",
    "    def _read_from_adata(self, obs_key: str, **kwargs: Any):\n",
    "        super()._read_from_adata(**kwargs)\n",
    "\n",
    "        print(f\"Reading `adata.obs[{obs_key!r}]`\")\n",
    "        self.pseudotime = self.adata.obs[obs_key].values\n",
    "\n",
    "    def compute_transition_matrix(self, some_parameter: float = 0.5) -> \"MyKernel\":\n",
    "        if self._reuse_cache({\"some_parameter\": some_parameter}):\n",
    "            print(\"Using cached values for parameters:\", self.params)\n",
    "            return self\n",
    "\n",
    "        transition_matrix = sp.diags(\n",
    "            (some_parameter,) * len(self.adata), dtype=np.float64\n",
    "        )\n",
    "\n",
    "        self._compute_transition_matrix(transition_matrix, density_normalize=True)\n",
    "\n",
    "        return self\n",
    "\n",
    "    def __invert__(self) -> \"MyKernel\":\n",
    "        super().__invert__()\n",
    "        self.pseudotime = np.max(self.pseudotime) - self.pseudotime\n",
    "        return self\n",
    "\n",
    "    def copy(self) -> \"MyKernel\":\n",
    "        return copy(self)"
   ]
  },
  {
   "cell_type": "code",
   "execution_count": 10,
   "id": "3f76e48e",
   "metadata": {
    "ExecuteTime": {
     "end_time": "2021-03-19T18:00:53.358843Z",
     "start_time": "2021-03-19T18:00:53.352827Z"
    }
   },
   "outputs": [
    {
     "name": "stdout",
     "output_type": "stream",
     "text": [
      "Reading `adata.obs['palantir_pseudotime']`\n",
      "Is backward? False\n"
     ]
    },
    {
     "data": {
      "text/plain": [
       "array([0.81281052, 0.81832897, 0.48974318, ..., 0.73317134, 0.92208156,\n",
       "       0.8219729 ])"
      ]
     },
     "execution_count": 10,
     "metadata": {},
     "output_type": "execute_result"
    }
   ],
   "source": [
    "k = MyKernel(adata)\n",
    "print(\"Is backward?\", k.backward)\n",
    "k.pseudotime"
   ]
  },
  {
   "cell_type": "code",
   "execution_count": 11,
   "id": "b09a7bb4",
   "metadata": {
    "ExecuteTime": {
     "end_time": "2021-03-19T18:00:53.364490Z",
     "start_time": "2021-03-19T18:00:53.360710Z"
    }
   },
   "outputs": [
    {
     "name": "stdout",
     "output_type": "stream",
     "text": [
      "Is inversion and in-place operation? True\n",
      "Is backward? True\n"
     ]
    },
    {
     "data": {
      "text/plain": [
       "array([0.18718948, 0.18167103, 0.51025682, ..., 0.26682866, 0.07791844,\n",
       "       0.1780271 ])"
      ]
     },
     "execution_count": 11,
     "metadata": {},
     "output_type": "execute_result"
    }
   ],
   "source": [
    "k_inv = ~k\n",
    "print(\"Is inversion and in-place operation?\", k_inv is k)\n",
    "print(\"Is backward?\", k.backward)\n",
    "k.pseudotime"
   ]
  },
  {
   "cell_type": "markdown",
   "id": "2abe8b5f",
   "metadata": {},
   "source": [
    "## Conclusion"
   ]
  },
  {
   "cell_type": "markdown",
   "id": "3727e3a6",
   "metadata": {},
   "source": [
    "Although CellRank's estimators can easily work with cell-cell transition matrices specified as `numpy.ndrray` or `scipy.sparse.spmatrix`, the kernel class offers other various benefits, such as:\n",
    "\n",
    "- easy combination with other kernels.\n",
    "- projecting the transition matrix onto an embedding, as done in [scVelo](https://scvelo.readthedocs.io/), using [.compute_projection](https://cellrank.readthedocs.io/en/stable/classes.html#cellrank.tl.kernels.Kernel.compute_projection).\n",
    "- visualizing random walks using [.plot_random_walks](https://cellrank.readthedocs.io/en/stable/classes.html#cellrank.tl.kernels.Kernel.plot_random_walks).\n",
    "\n",
    "If you're interested in contributing to CellRank, please check out our [contributing guide](https://github.com/theislab/cellrank/blob/master/CONTRIBUTING.rst) - we're happy for any contributions."
   ]
  }
 ],
 "metadata": {
  "kernelspec": {
   "display_name": "cellrank",
   "language": "python",
   "name": "cellrank"
  },
  "language_info": {
   "codemirror_mode": {
    "name": "ipython",
    "version": 3
   },
   "file_extension": ".py",
   "mimetype": "text/x-python",
   "name": "python",
   "nbconvert_exporter": "python",
   "pygments_lexer": "ipython3",
   "version": "3.8.10"
  },
  "toc": {
   "base_numbering": 1,
   "nav_menu": {},
   "number_sections": true,
   "sideBar": true,
   "skip_h1_title": false,
   "title_cell": "Table of Contents",
   "title_sidebar": "Contents",
   "toc_cell": false,
   "toc_position": {},
   "toc_section_display": true,
   "toc_window_display": false
  }
 },
 "nbformat": 4,
 "nbformat_minor": 5
}
