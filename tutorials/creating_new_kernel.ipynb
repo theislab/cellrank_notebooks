{
 "cells": [
  {
   "cell_type": "markdown",
   "id": "medieval-allowance",
   "metadata": {},
   "source": [
    "# Creating a new kernel"
   ]
  },
  {
   "cell_type": "markdown",
   "id": "informational-newfoundland",
   "metadata": {},
   "source": [
    "This tutorial shows you how to create your own kernel class which computes a cell-cell transition matrix."
   ]
  },
  {
   "cell_type": "markdown",
   "id": "equivalent-offset",
   "metadata": {},
   "source": [
    "## Import packages & data"
   ]
  },
  {
   "cell_type": "code",
   "execution_count": 2,
   "id": "understanding-hypothetical",
   "metadata": {},
   "outputs": [],
   "source": [
    "from typing import Any\n",
    "from copy import copy\n",
    "from anndata import AnnData\n",
    "\n",
    "import cellrank as cr\n",
    "import numpy as np\n",
    "import scipy.sparse as sp"
   ]
  },
  {
   "cell_type": "code",
   "execution_count": 3,
   "id": "similar-college",
   "metadata": {},
   "outputs": [
    {
     "data": {
      "text/plain": [
       "AnnData object with n_obs × n_vars = 2531 × 27998\n",
       "    obs: 'day', 'proliferation', 'G2M_score', 'S_score', 'phase', 'clusters_coarse', 'clusters', 'clusters_fine', 'louvain_Alpha', 'louvain_Beta', 'palantir_pseudotime'\n",
       "    var: 'highly_variable_genes'\n",
       "    uns: 'clusters_colors', 'clusters_fine_colors', 'day_colors', 'louvain_Alpha_colors', 'louvain_Beta_colors', 'neighbors', 'pca'\n",
       "    obsm: 'X_pca', 'X_umap'\n",
       "    layers: 'spliced', 'unspliced'\n",
       "    obsp: 'connectivities', 'distances'"
      ]
     },
     "execution_count": 3,
     "metadata": {},
     "output_type": "execute_result"
    }
   ],
   "source": [
    "adata = cr.datasets.pancreas()\n",
    "adata"
   ]
  },
  {
   "cell_type": "markdown",
   "id": "spectacular-preview",
   "metadata": {},
   "source": [
    "## Minimal kernel"
   ]
  },
  {
   "cell_type": "markdown",
   "id": "lined-latin",
   "metadata": {},
   "source": [
    "In order to create your own kernel class, you just need to do these 3 things:\n",
    "\n",
    "- subclass from `cellrank.tl.kernels.Kernel`\n",
    "- `.compute_transition_matrix` - saves the row-stochastic transition matrix in attribute `._transition_matrix` and returns itself, for this we use `._compute_transition_matrix` helper method\n",
    "- `.copy`: return a copy of the kernel.\n",
    "\n",
    "The `._compute_transition_matrix` row-normalizes any matrix passed to it, if needed (all elements must be non-negative) and optionally computes the condition number (can be costly and only works on dense matrices).\n",
    "\n",
    "Below you can see a minimal implementation of a kernel where the computed transition matrix is just a diagonal."
   ]
  },
  {
   "cell_type": "code",
   "execution_count": 30,
   "id": "coated-primary",
   "metadata": {},
   "outputs": [],
   "source": [
    "class MyKernel(cr.tl.kernels.Kernel):\n",
    "    \n",
    "    def compute_transition_matrix(self, some_parameter: float = 0.5) -> \"MyKernel\":\n",
    "        transition_matrix = sp.diags((some_parameter,) * len(self.adata), dtype=np.float64)\n",
    "        self._compute_transition_matrix(transition_matrix, density_normalize=True)\n",
    "        return self\n",
    "    \n",
    "    def copy(self) -> \"MyKernel\":\n",
    "        return copy(self)"
   ]
  },
  {
   "cell_type": "code",
   "execution_count": 32,
   "id": "sweet-petite",
   "metadata": {},
   "outputs": [
    {
     "data": {
      "text/plain": [
       "array([[1., 0., 0., ..., 0., 0., 0.],\n",
       "       [0., 1., 0., ..., 0., 0., 0.],\n",
       "       [0., 0., 1., ..., 0., 0., 0.],\n",
       "       ...,\n",
       "       [0., 0., 0., ..., 1., 0., 0.],\n",
       "       [0., 0., 0., ..., 0., 1., 0.],\n",
       "       [0., 0., 0., ..., 0., 0., 1.]])"
      ]
     },
     "execution_count": 32,
     "metadata": {},
     "output_type": "execute_result"
    }
   ],
   "source": [
    "k = MyKernel(adata).compute_transition_matrix()\n",
    "k.transition_matrix.A"
   ]
  },
  {
   "cell_type": "markdown",
   "id": "failing-pharmaceutical",
   "metadata": {},
   "source": [
    "## Reading from AnnData"
   ]
  },
  {
   "cell_type": "code",
   "execution_count": 41,
   "id": "cathedral-enclosure",
   "metadata": {},
   "outputs": [],
   "source": [
    "class MyKernel(cr.tl.kernels.Kernel):\n",
    "    def __init__(self, adata: AnnData, obs_key: str = \"palantir_pseudotime\", **kwargs: Any):\n",
    "        super().__init__(adata=adata, obs_key=obs_key, **kwargs)\n",
    "    \n",
    "    def _read_from_adata(self, obs_key: str, **kwargs: Any):\n",
    "        super()._read_from_adata(**kwargs)\n",
    "        \n",
    "        print(f\"Reading `adata.obs[{obs_key!r}]`\")\n",
    "        self.pseudotime = self.adata.obs[obs_key].values\n",
    "    \n",
    "    def compute_transition_matrix(self, some_parameter: float = 0.5) -> \"MyKernel\":\n",
    "        print(\"Accessing `.pseudotime`: \", self.pseudotime)\n",
    "        transition_matrix = sp.diags((some_parameter,) * len(self.adata), dtype=np.float64)\n",
    "        \n",
    "        self._compute_transition_matrix(transition_matrix)\n",
    "        \n",
    "        return self\n",
    "    \n",
    "    def copy(self) -> \"MyKernel\":\n",
    "        return copy(self)"
   ]
  },
  {
   "cell_type": "code",
   "execution_count": 34,
   "id": "freelance-number",
   "metadata": {},
   "outputs": [
    {
     "name": "stdout",
     "output_type": "stream",
     "text": [
      "Reading `adata.obs['palantir_pseudotime']`\n",
      "Accessing `.pseudotime`:  [0.81281052 0.81832897 0.48974318 ... 0.73317134 0.92208156 0.8219729 ]\n"
     ]
    },
    {
     "data": {
      "text/plain": [
       "<MyKe>"
      ]
     },
     "execution_count": 34,
     "metadata": {},
     "output_type": "execute_result"
    }
   ],
   "source": [
    "k = MyKernel(adata).compute_transition_matrix()\n",
    "k"
   ]
  },
  {
   "cell_type": "markdown",
   "id": "pointed-expert",
   "metadata": {},
   "source": [
    "## Caching values"
   ]
  },
  {
   "cell_type": "markdown",
   "id": "unauthorized-interview",
   "metadata": {},
   "source": [
    "Kernels can be combines using elementwise operators `+` and `*`. However, this can lead to multiple evaluations of the same expression, was it not for caching.\n",
    "\n",
    "To that effect, we provide a method `._reuse_cache(parameters: Dict[str, Any]) -> bool` that returns `True` if a cached version is available or `False` otherwise. It also updates the parameters, which are accessible through attribute `.params`."
   ]
  },
  {
   "cell_type": "code",
   "execution_count": 35,
   "id": "greater-confusion",
   "metadata": {},
   "outputs": [],
   "source": [
    "class MyKernel(cr.tl.kernels.Kernel):\n",
    "    def __init__(self, adata: AnnData, obs_key: str = \"palantir_pseudotime\", **kwargs: Any):\n",
    "        super().__init__(adata=adata, obs_key=obs_key, **kwargs)\n",
    "    \n",
    "    def _read_from_adata(self, obs_key: str, **kwargs: Any):\n",
    "        super()._read_from_adata(**kwargs)\n",
    "        \n",
    "        print(f\"Reading `adata.obs[{obs_key!r}]`\")\n",
    "        self.pseudotime = self.adata.obs[obs_key].values\n",
    "    \n",
    "    def compute_transition_matrix(self, some_parameter: float = 0.5) -> \"MyKernel\":\n",
    "        if self._reuse_cache({\"some_parameter\": some_parameter}):\n",
    "            print(\"Using cached values for parameters:\", self.params)\n",
    "            return self\n",
    "        \n",
    "        transition_matrix = sp.diags((some_parameter,) * len(self.adata), dtype=np.float64)\n",
    "        \n",
    "        self._compute_transition_matrix(transition_matrix, density_normalize=True)\n",
    "        \n",
    "        return self\n",
    "    \n",
    "    def copy(self) -> \"MyKernel\":\n",
    "        return copy(self)"
   ]
  },
  {
   "cell_type": "code",
   "execution_count": 37,
   "id": "invisible-composer",
   "metadata": {},
   "outputs": [
    {
     "name": "stdout",
     "output_type": "stream",
     "text": [
      "Reading `adata.obs['palantir_pseudotime']`\n",
      "Using cached values for parameters: {'some_parameter': 0.1}\n",
      "<MyKe[some_parameter=0.1]>\n"
     ]
    }
   ],
   "source": [
    "k = MyKernel(adata).compute_transition_matrix(some_parameter=0.1)\n",
    "k.compute_transition_matrix(some_parameter=0.1)\n",
    "print(k)"
   ]
  },
  {
   "cell_type": "markdown",
   "id": "comparable-accreditation",
   "metadata": {},
   "source": [
    "## Inverting kernel"
   ]
  },
  {
   "cell_type": "markdown",
   "id": "ruled-factor",
   "metadata": {},
   "source": [
    "Kernels have also associated direction with them, and the direction can be inverted, with `~` operator.\n",
    "Although this is a very niche functionality, we recommend overriding `__invert__` method.\n",
    "This operation is in-place and it:\n",
    "\n",
    "- changes the direction (i.e. attribute `.backward` will become `True` if it was `False` and vice-versa).\n",
    "- invalidates the current transition matrix and the parameters.\n",
    "\n",
    "How this is implemented really depends on what data has been loaded into the kernel object. In our case, we just need to change the `.pseudotime` attribute."
   ]
  },
  {
   "cell_type": "code",
   "execution_count": 38,
   "id": "ordered-coalition",
   "metadata": {},
   "outputs": [],
   "source": [
    "class MyKernel(cr.tl.kernels.Kernel):\n",
    "    def __init__(self, adata: AnnData, obs_key: str = \"palantir_pseudotime\", **kwargs: Any):\n",
    "        super().__init__(adata=adata, obs_key=obs_key, **kwargs)\n",
    "    \n",
    "    def _read_from_adata(self, obs_key: str, **kwargs: Any):\n",
    "        super()._read_from_adata(**kwargs)\n",
    "        \n",
    "        print(f\"Reading `adata.obs[{obs_key!r}]`\")\n",
    "        self.pseudotime = self.adata.obs[obs_key].values\n",
    "    \n",
    "    def compute_transition_matrix(self, some_parameter: float = 0.5) -> \"MyKernel\":\n",
    "        if self._reuse_cache({\"some_parameter\": some_parameter}):\n",
    "            print(\"Using cached values for parameters:\", self.params)\n",
    "            return self\n",
    "        \n",
    "        transition_matrix = sp.diags((some_parameter,) * len(self.adata), dtype=np.float64)\n",
    "        \n",
    "        self._compute_transition_matrix(transition_matrix, density_normalize=True)\n",
    "        \n",
    "        return self\n",
    "    \n",
    "    def __invert__(self) -> \"MyKernel\":\n",
    "        super().__invert__()\n",
    "        self.pseudotime = np.max(self.pseudotime) - self.pseudotime\n",
    "        return self\n",
    "    \n",
    "    def copy(self) -> \"MyKernel\":\n",
    "        return copy(self)"
   ]
  },
  {
   "cell_type": "code",
   "execution_count": 39,
   "id": "innovative-victim",
   "metadata": {},
   "outputs": [
    {
     "name": "stdout",
     "output_type": "stream",
     "text": [
      "Reading `adata.obs['palantir_pseudotime']`\n"
     ]
    },
    {
     "data": {
      "text/plain": [
       "(array([0.81281052, 0.81832897, 0.48974318, ..., 0.73317134, 0.92208156,\n",
       "        0.8219729 ]),\n",
       " False)"
      ]
     },
     "execution_count": 39,
     "metadata": {},
     "output_type": "execute_result"
    }
   ],
   "source": [
    "k = MyKernel(adata)\n",
    "k.pseudotime, k.backward"
   ]
  },
  {
   "cell_type": "code",
   "execution_count": 40,
   "id": "northern-calgary",
   "metadata": {},
   "outputs": [
    {
     "data": {
      "text/plain": [
       "(array([0.18718948, 0.18167103, 0.51025682, ..., 0.26682866, 0.07791844,\n",
       "        0.1780271 ]),\n",
       " True)"
      ]
     },
     "execution_count": 40,
     "metadata": {},
     "output_type": "execute_result"
    }
   ],
   "source": [
    "k_inv = ~k\n",
    "assert k_inv is k  # operation is in-place\n",
    "k.pseudotime, k.backward"
   ]
  },
  {
   "cell_type": "markdown",
   "id": "facial-mailing",
   "metadata": {},
   "source": [
    "# Conclusion"
   ]
  },
  {
   "cell_type": "markdown",
   "id": "nasty-multiple",
   "metadata": {},
   "source": [
    "TODO:\n",
    "- link to kernel tricks in docs?\n",
    "- encourage contributions + link to contributing.rst if not already coming from there"
   ]
  }
 ],
 "metadata": {
  "kernelspec": {
   "display_name": "cellrank",
   "language": "python",
   "name": "cellrank"
  },
  "language_info": {
   "codemirror_mode": {
    "name": "ipython",
    "version": 3
   },
   "file_extension": ".py",
   "mimetype": "text/x-python",
   "name": "python",
   "nbconvert_exporter": "python",
   "pygments_lexer": "ipython3",
   "version": "3.8.5"
  }
 },
 "nbformat": 4,
 "nbformat_minor": 5
}
